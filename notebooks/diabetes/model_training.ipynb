{
 "cells": [
  {
   "cell_type": "code",
   "execution_count": 1,
   "metadata": {},
   "outputs": [
    {
     "data": {
      "text/plain": [
       "'/home/utpal108/dev/Upwork/Projects/Diabetic-Retinopathy-Prediction'"
      ]
     },
     "execution_count": 1,
     "metadata": {},
     "output_type": "execute_result"
    }
   ],
   "source": [
    "import os\n",
    "os.chdir('../../')\n",
    "%pwd"
   ]
  },
  {
   "cell_type": "code",
   "execution_count": 2,
   "metadata": {},
   "outputs": [],
   "source": [
    "# Config Entity\n",
    "from dataclasses import dataclass\n",
    "from pathlib import Path\n",
    "\n",
    "@dataclass(frozen=True)\n",
    "class MLModelTrainingConfig:\n",
    "    best_ml_model_path: Path\n",
    "    "
   ]
  },
  {
   "cell_type": "code",
   "execution_count": 3,
   "metadata": {},
   "outputs": [],
   "source": [
    "from diabeticRetinopathy.constants import *\n",
    "from diabeticRetinopathy.utils import create_directories, read_yaml"
   ]
  },
  {
   "cell_type": "code",
   "execution_count": 4,
   "metadata": {},
   "outputs": [],
   "source": [
    "# Configuration Manager\n",
    "class ConfigurationManager:\n",
    "    def __init__(self, config_filepath = CONFIG_FILE_PATH, params_filepath = PARAMS_FILE_PATH):\n",
    "        self.config = read_yaml(config_filepath)\n",
    "        self.params = read_yaml(params_filepath)\n",
    "        create_directories([self.config.artifacts_root])\n",
    "\n",
    "    def get_ml_model_training_config(self) -> MLModelTrainingConfig:\n",
    "        config= self.config.training\n",
    "        create_directories([config.root_dir])\n",
    "\n",
    "        model_training_config = MLModelTrainingConfig(\n",
    "            best_ml_model_path = Path(config.best_ml_model_path)\n",
    "        )\n",
    "\n",
    "        return  model_training_config\n"
   ]
  },
  {
   "cell_type": "code",
   "execution_count": 5,
   "metadata": {},
   "outputs": [],
   "source": [
    "from diabeticRetinopathy.utils import save_object\n",
    "from sklearn.svm import SVC\n",
    "from sklearn.tree import DecisionTreeClassifier\n",
    "from sklearn.neighbors import KNeighborsClassifier\n",
    "from sklearn.ensemble import RandomForestClassifier, GradientBoostingClassifier\n",
    "from sklearn.metrics import accuracy_score\n",
    "import numpy as np"
   ]
  },
  {
   "cell_type": "code",
   "execution_count": 6,
   "metadata": {},
   "outputs": [],
   "source": [
    "# Component\n",
    "class ModelTraining:\n",
    "    def __init__(self, config: MLModelTrainingConfig):\n",
    "        self.config = config\n",
    "  \n",
    "    def _evaluate_model(self, models, X_train, X_test, y_train, y_test):\n",
    "        try:\n",
    "            report = {}\n",
    "            best_model = {'': -np.inf}\n",
    "\n",
    "            # Evaluate the models base on the \n",
    "            for i in range(len(models)):\n",
    "                model_name = list(models.keys())[i]\n",
    "                model = list(models.values())[i]\n",
    "                model.fit(X_train, y_train)\n",
    "                y_pred = model.predict(X_test)\n",
    "                score = accuracy_score(y_test, y_pred)\n",
    "                if list(best_model.values())[0] < score:\n",
    "                    best_model = {model_name: score}\n",
    "\n",
    "                report[model_name] = score\n",
    "\n",
    "            return report, best_model\n",
    "\n",
    "        except Exception as e:\n",
    "            raise e\n",
    "\n",
    "    def initiate_model_training(self, X_train, X_test, y_train, y_test):\n",
    "        try:\n",
    "\n",
    "            # List of the Models\n",
    "            models = {\n",
    "                'SVC': SVC(kernel='linear', gamma='scale'),\n",
    "                'DecisionTree': DecisionTreeClassifier(),\n",
    "                'RandomForest': RandomForestClassifier(criterion='entropy', max_features='sqrt'),\n",
    "                'GradientBoosting': GradientBoostingClassifier(criterion='squared_error', loss='exponential'),\n",
    "                'KNeighbors': KNeighborsClassifier(algorithm='auto',n_neighbors=9, weights='distance')\n",
    "            }\n",
    "\n",
    "            print(type(models))\n",
    "\n",
    "            # Find the best model\n",
    "            model_report, best_model = self._evaluate_model(models=models, X_train=X_train, X_test=X_test, y_train=y_train, y_test=y_test)\n",
    "            print(model_report)\n",
    "            print(best_model)\n",
    "            best_model = models[list(best_model.keys())[0]]\n",
    "\n",
    "            # Save the best model\n",
    "            save_object(self.config.best_ml_model_path, best_model)\n",
    "\n",
    "        except Exception as e:\n",
    "            raise e\n"
   ]
  },
  {
   "cell_type": "code",
   "execution_count": 7,
   "metadata": {},
   "outputs": [],
   "source": [
    "from diabeticRetinopathy.components.diabetes.data_preprocessing import DataPreprocessing\n",
    "from diabeticRetinopathy.config import ConfigurationManager"
   ]
  },
  {
   "cell_type": "code",
   "execution_count": 8,
   "metadata": {},
   "outputs": [
    {
     "name": "stderr",
     "output_type": "stream",
     "text": [
      "2024-04-18 00:19:39,404 : diabeticRetinopathy.logger - INFO - YAML file: config/config.yaml loaded successfully\n",
      "2024-04-18 00:19:39,407 : diabeticRetinopathy.logger - INFO - YAML file: params.yaml loaded successfully\n",
      "2024-04-18 00:19:39,408 : diabeticRetinopathy.logger - INFO - created directory at: artifacts\n",
      "2024-04-18 00:19:39,408 : diabeticRetinopathy.logger - INFO - created directory at: artifacts/preprocessor\n",
      "2024-04-18 00:19:39,409 : diabeticRetinopathy.logger - INFO - created directory at: artifacts/training\n"
     ]
    },
    {
     "name": "stdout",
     "output_type": "stream",
     "text": [
      "<class 'dict'>\n",
      "{'SVC': 0.7566666666666667, 'DecisionTree': 0.7366666666666667, 'RandomForest': 0.8033333333333333, 'GradientBoosting': 0.7966666666666666, 'KNeighbors': 0.7633333333333333}\n",
      "{'RandomForest': 0.8033333333333333}\n"
     ]
    }
   ],
   "source": [
    "# Pipeline\n",
    "try:\n",
    "    config = ConfigurationManager()\n",
    "    data_preprocessing_config = config.get_ml_data_preprocessing_config()\n",
    "    ml_model_training_config = config.get_ml_model_training_config()\n",
    "\n",
    "    data_preprocessing = DataPreprocessing(config=data_preprocessing_config)\n",
    "    X_train, X_test, y_train, y_test = data_preprocessing.initiate_data_preprocessing()\n",
    "\n",
    "    model_training = ModelTraining(config=ml_model_training_config)\n",
    "    model_training.initiate_model_training(X_train, X_test, y_train, y_test)\n",
    "\n",
    "except Exception as e:\n",
    "    raise e"
   ]
  },
  {
   "cell_type": "code",
   "execution_count": null,
   "metadata": {},
   "outputs": [],
   "source": []
  }
 ],
 "metadata": {
  "kernelspec": {
   "display_name": "venv",
   "language": "python",
   "name": "python3"
  },
  "language_info": {
   "codemirror_mode": {
    "name": "ipython",
    "version": 3
   },
   "file_extension": ".py",
   "mimetype": "text/x-python",
   "name": "python",
   "nbconvert_exporter": "python",
   "pygments_lexer": "ipython3",
   "version": "3.10.12"
  }
 },
 "nbformat": 4,
 "nbformat_minor": 2
}
