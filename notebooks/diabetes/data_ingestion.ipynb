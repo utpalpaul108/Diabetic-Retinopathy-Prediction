{
 "cells": [
  {
   "cell_type": "markdown",
   "metadata": {},
   "source": [
    "## Data Ingestion"
   ]
  },
  {
   "cell_type": "code",
   "execution_count": 1,
   "metadata": {},
   "outputs": [],
   "source": [
    "import os"
   ]
  },
  {
   "cell_type": "code",
   "execution_count": 2,
   "metadata": {},
   "outputs": [],
   "source": [
    "os.chdir('../../')"
   ]
  },
  {
   "cell_type": "code",
   "execution_count": 3,
   "metadata": {},
   "outputs": [
    {
     "data": {
      "text/plain": [
       "'/home/utpal108/dev/Upwork/Projects/Diabetic-Retinopathy-Prediction'"
      ]
     },
     "execution_count": 3,
     "metadata": {},
     "output_type": "execute_result"
    }
   ],
   "source": [
    "%pwd"
   ]
  },
  {
   "cell_type": "code",
   "execution_count": 4,
   "metadata": {},
   "outputs": [],
   "source": [
    "# Config Entity\n",
    "from dataclasses import dataclass\n",
    "from pathlib import Path\n",
    "\n",
    "@dataclass(frozen=True)\n",
    "class MLDataIngestionConfig:\n",
    "    root_dir: Path\n",
    "    ml_data_source_url: str\n",
    "    raw_dataset_dir: Path\n",
    "    ml_dataset_dir: Path\n",
    "    ml_data_path: Path"
   ]
  },
  {
   "cell_type": "code",
   "execution_count": 5,
   "metadata": {},
   "outputs": [],
   "source": [
    "from diabeticRetinopathy.constants import *\n",
    "from diabeticRetinopathy.utils import read_yaml, create_directories"
   ]
  },
  {
   "cell_type": "code",
   "execution_count": 6,
   "metadata": {},
   "outputs": [],
   "source": [
    "# Configuration Manager\n",
    "class ConfigurationManager:\n",
    "    def __init__(self, config_filepath = CONFIG_FILE_PATH, params_filepath = PARAMS_FILE_PATH):\n",
    "        \n",
    "        self.config = read_yaml(config_filepath)\n",
    "        self.params = read_yaml(params_filepath)\n",
    "\n",
    "        create_directories([self.config.artifacts_root])\n",
    "\n",
    "    def get_data_ingestion_config(self) -> MLDataIngestionConfig: \n",
    "        config = self.config.data_ingestion\n",
    "        create_directories([config.root_dir])\n",
    "\n",
    "        data_ingestion_config = MLDataIngestionConfig(\n",
    "            root_dir = Path(config.root_dir),\n",
    "            ml_data_source_url = config.ml_data_source_url,\n",
    "            raw_dataset_dir = Path(config.raw_dataset_dir),\n",
    "            ml_dataset_dir = Path(config.ml_dataset_dir),\n",
    "            ml_data_path = Path(config.ml_data_path)\n",
    "        )\n",
    "\n",
    "        return data_ingestion_config"
   ]
  },
  {
   "cell_type": "code",
   "execution_count": 7,
   "metadata": {},
   "outputs": [],
   "source": [
    "import opendatasets as od\n",
    "import shutil\n",
    "from PIL import Image"
   ]
  },
  {
   "cell_type": "code",
   "execution_count": 8,
   "metadata": {},
   "outputs": [],
   "source": [
    "# Components\n",
    "class DataIngestion:\n",
    "    def __init__(self, config: MLDataIngestionConfig):\n",
    "        self.config = config\n",
    "\n",
    "    def download_dataset(self):\n",
    "        if not os.path.exists(self.config.ml_dataset_dir) or (not os.listdir(self.config.ml_dataset_dir)):\n",
    "            create_directories([self.config.raw_dataset_dir])\n",
    "            # Download the dataset\n",
    "            od.download(self.config.ml_data_source_url,data_dir=self.config.raw_dataset_dir)\n",
    "        \n",
    "    def preprocess_dataset(self):\n",
    "        if os.path.exists(self.config.raw_dataset_dir):\n",
    "            try:\n",
    "                create_directories([self.config.ml_dataset_dir])\n",
    "                for root, dirs, files in os.walk(self.config.raw_dataset_dir):\n",
    "                    for file in files:\n",
    "                        file_path = os.path.join(root, file)\n",
    "                        \n",
    "                        # Check if the file is an image and valid\n",
    "                        if file.lower().endswith(('.csv')):\n",
    "                            # Copy the file to the destination folder\n",
    "                            shutil.copy(file_path, self.config.ml_data_path)\n",
    "\n",
    "                shutil.rmtree(self.config.raw_dataset_dir)\n",
    "            \n",
    "            except Exception as e:\n",
    "                raise e"
   ]
  },
  {
   "cell_type": "code",
   "execution_count": 9,
   "metadata": {},
   "outputs": [
    {
     "name": "stderr",
     "output_type": "stream",
     "text": [
      "2024-04-18 08:56:10,954 : diabeticRetinopathy.logger - INFO - YAML file: config/config.yaml loaded successfully\n",
      "2024-04-18 08:56:10,958 : diabeticRetinopathy.logger - INFO - YAML file: params.yaml loaded successfully\n",
      "2024-04-18 08:56:10,960 : diabeticRetinopathy.logger - INFO - created directory at: artifacts\n",
      "2024-04-18 08:56:10,961 : diabeticRetinopathy.logger - INFO - created directory at: artifacts/data_ingestion\n",
      "2024-04-18 08:56:10,963 : diabeticRetinopathy.logger - INFO - created directory at: artifacts/data_ingestion/raw_dataset\n"
     ]
    },
    {
     "name": "stdout",
     "output_type": "stream",
     "text": [
      "Please provide your Kaggle credentials to download this dataset. Learn more: http://bit.ly/kaggle-creds\n",
      "Your Kaggle username:Your Kaggle Key:Dataset URL: https://www.kaggle.com/datasets/mrsimple07/diabetes-prediction\n",
      "Downloading diabetes-prediction.zip to artifacts/data_ingestion/raw_dataset/diabetes-prediction\n"
     ]
    },
    {
     "name": "stderr",
     "output_type": "stream",
     "text": [
      "100%|██████████| 64.2k/64.2k [00:00<00:00, 345kB/s]\n",
      "2024-04-18 08:56:23,375 : diabeticRetinopathy.logger - INFO - created directory at: artifacts/data_ingestion/ml_dataset\n"
     ]
    },
    {
     "name": "stdout",
     "output_type": "stream",
     "text": [
      "\n"
     ]
    }
   ],
   "source": [
    "# Pipeline\n",
    "try:\n",
    "    config = ConfigurationManager()\n",
    "    data_ingestion_config = config.get_data_ingestion_config()\n",
    "    data_ingestion = DataIngestion(config=data_ingestion_config)\n",
    "    data_ingestion.download_dataset()\n",
    "    data_ingestion.preprocess_dataset()\n",
    "    \n",
    "except Exception as e:\n",
    "    raise e"
   ]
  },
  {
   "cell_type": "code",
   "execution_count": null,
   "metadata": {},
   "outputs": [],
   "source": []
  }
 ],
 "metadata": {
  "kernelspec": {
   "display_name": "venv",
   "language": "python",
   "name": "python3"
  },
  "language_info": {
   "codemirror_mode": {
    "name": "ipython",
    "version": 3
   },
   "file_extension": ".py",
   "mimetype": "text/x-python",
   "name": "python",
   "nbconvert_exporter": "python",
   "pygments_lexer": "ipython3",
   "version": "3.10.12"
  }
 },
 "nbformat": 4,
 "nbformat_minor": 2
}
