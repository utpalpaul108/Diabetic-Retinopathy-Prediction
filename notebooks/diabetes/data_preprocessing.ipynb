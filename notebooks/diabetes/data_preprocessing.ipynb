{
 "cells": [
  {
   "cell_type": "code",
   "execution_count": 1,
   "metadata": {},
   "outputs": [
    {
     "data": {
      "text/plain": [
       "'/home/utpal108/dev/Upwork/Projects/Diabetic-Retinopathy-Prediction'"
      ]
     },
     "execution_count": 1,
     "metadata": {},
     "output_type": "execute_result"
    }
   ],
   "source": [
    "import os\n",
    "os.chdir('../../')\n",
    "%pwd"
   ]
  },
  {
   "cell_type": "code",
   "execution_count": 2,
   "metadata": {},
   "outputs": [],
   "source": [
    "from dataclasses import dataclass\n",
    "from pathlib import Path"
   ]
  },
  {
   "cell_type": "code",
   "execution_count": 3,
   "metadata": {},
   "outputs": [],
   "source": [
    "@dataclass(frozen=True)\n",
    "class MLDataPreprocessingConfig:\n",
    "    data_path: Path\n",
    "    preprocessor_path: Path"
   ]
  },
  {
   "cell_type": "code",
   "execution_count": 4,
   "metadata": {},
   "outputs": [],
   "source": [
    "import pandas as pd\n",
    "from diabeticRetinopathy.constants import *\n",
    "from diabeticRetinopathy.utils import read_yaml, save_object, create_directories"
   ]
  },
  {
   "cell_type": "code",
   "execution_count": 5,
   "metadata": {},
   "outputs": [],
   "source": [
    "# Configuration Manager\n",
    "class ConfigurationManager:\n",
    "    def __init__(self, config_filepath = CONFIG_FILE_PATH, params_filepath = PARAMS_FILE_PATH):\n",
    "\n",
    "        self.config = read_yaml(config_filepath)\n",
    "        self.params = read_yaml(params_filepath)\n",
    "\n",
    "    def get_ml_data_preprocessing_config(self) -> MLDataPreprocessingConfig:\n",
    "        config = self.config\n",
    "        create_directories([config.data_preprocessor.root_dir])\n",
    "\n",
    "        data_preprocessing_config = MLDataPreprocessingConfig(\n",
    "            data_path = Path(config.data_ingestion.ml_data_path),\n",
    "            preprocessor_path = Path(config.data_preprocessor.preprocessor_path)\n",
    "        )\n",
    "\n",
    "        return data_preprocessing_config"
   ]
  },
  {
   "cell_type": "code",
   "execution_count": 6,
   "metadata": {},
   "outputs": [],
   "source": [
    "from sklearn.impute import SimpleImputer # For Handling Missing Values\n",
    "from sklearn.preprocessing import StandardScaler # For Feature Scaling\n",
    "from sklearn.preprocessing import OrdinalEncoder # For Ordinal Encoding\n",
    "from sklearn.model_selection import train_test_split\n",
    "from imblearn.over_sampling import SMOTE\n",
    "\n",
    "# Pipeline\n",
    "from sklearn.pipeline import Pipeline\n",
    "from sklearn.compose import ColumnTransformer"
   ]
  },
  {
   "cell_type": "code",
   "execution_count": 7,
   "metadata": {},
   "outputs": [],
   "source": [
    "# Components\n",
    "class DataPreprocessing:\n",
    "    def __init__(self, config: MLDataPreprocessingConfig):\n",
    "        self.config = config\n",
    "\n",
    "    def _data_preprocessor(self, numerical_features, categorical_features):\n",
    "        '''\n",
    "        Preprocess the raw dataset\n",
    "        '''\n",
    "\n",
    "        # Numerical Pipeline\n",
    "        num_pipeline = Pipeline(\n",
    "            steps=[\n",
    "                ('imputer',SimpleImputer(strategy='median')),\n",
    "                ('scaler',StandardScaler())\n",
    "            ]\n",
    "        )\n",
    "\n",
    "        # Categorical Pipeline\n",
    "        cat_pipeline = Pipeline(\n",
    "            steps=[\n",
    "                ('imputer',SimpleImputer(strategy='most_frequent')),\n",
    "                ('ordinalencoder', OrdinalEncoder()),\n",
    "                ('scaler', StandardScaler())\n",
    "            ]\n",
    "        )\n",
    "\n",
    "        preprocessor = ColumnTransformer([\n",
    "            ('num_pipeline',num_pipeline,numerical_features),\n",
    "            ('cat_pipeline', cat_pipeline, categorical_features)\n",
    "        ])\n",
    "\n",
    "        return preprocessor\n",
    "\n",
    "    \n",
    "    def initiate_data_preprocessing(self) -> None:\n",
    "        \n",
    "        try:\n",
    "            df = pd.read_csv(self.config.data_path)\n",
    "            \n",
    "            # Split into independent and dependent features\n",
    "            X = df.iloc[:,:-1]\n",
    "            y = df.iloc[:,-1]\n",
    "\n",
    "            # Data over sampling\n",
    "            oversample = SMOTE()\n",
    "            X,y = oversample.fit_resample(X, y)\n",
    "\n",
    "            # Segregating Numerical and Categorical features\n",
    "            numerical_features = [feature for feature in X.columns if X[feature].dtypes !=object]\n",
    "            categorical_features = [feature for feature in X.columns if X[feature].dtypes ==object]\n",
    "\n",
    "            preprocessor = self._data_preprocessor(numerical_features=numerical_features, categorical_features=categorical_features)\n",
    "            \n",
    "            X_train,X_test,y_train,y_test = train_test_split(X,y,test_size=0.30,random_state=42,shuffle=True)\n",
    "            \n",
    "            X_train = preprocessor.fit_transform(X_train)\n",
    "            X_test = preprocessor.fit_transform(X_test)\n",
    "\n",
    "            save_object(self.config.preprocessor_path, preprocessor)\n",
    "\n",
    "            return X_train, X_test, y_train, y_test \n",
    "\n",
    "        except Exception as e:\n",
    "            raise e\n",
    "    "
   ]
  },
  {
   "cell_type": "code",
   "execution_count": 8,
   "metadata": {},
   "outputs": [
    {
     "name": "stderr",
     "output_type": "stream",
     "text": [
      "2024-04-17 21:40:08,447 : diabeticRetinopathy.logger - INFO - YAML file: config/config.yaml loaded successfully\n",
      "2024-04-17 21:40:08,453 : diabeticRetinopathy.logger - INFO - YAML file: params.yaml loaded successfully\n",
      "2024-04-17 21:40:08,455 : diabeticRetinopathy.logger - INFO - created directory at: artifacts/preprocessor\n"
     ]
    }
   ],
   "source": [
    "# Pipeline\n",
    "try:\n",
    "    config = ConfigurationManager()\n",
    "    data_preprocessing_config = config.get_ml_data_preprocessing_config()\n",
    "    data_preprocessing = DataPreprocessing(config=data_preprocessing_config)\n",
    "    X_train, X_test, y_train, y_test = data_preprocessing.initiate_data_preprocessing()\n",
    "\n",
    "except Exception as e:\n",
    "    raise e"
   ]
  },
  {
   "cell_type": "code",
   "execution_count": null,
   "metadata": {},
   "outputs": [],
   "source": []
  }
 ],
 "metadata": {
  "kernelspec": {
   "display_name": "venv",
   "language": "python",
   "name": "python3"
  },
  "language_info": {
   "codemirror_mode": {
    "name": "ipython",
    "version": 3
   },
   "file_extension": ".py",
   "mimetype": "text/x-python",
   "name": "python",
   "nbconvert_exporter": "python",
   "pygments_lexer": "ipython3",
   "version": "3.10.12"
  }
 },
 "nbformat": 4,
 "nbformat_minor": 2
}
