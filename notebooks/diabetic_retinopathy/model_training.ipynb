{
 "cells": [
  {
   "cell_type": "markdown",
   "metadata": {},
   "source": [
    "## Model Training"
   ]
  },
  {
   "cell_type": "code",
   "execution_count": 1,
   "metadata": {},
   "outputs": [],
   "source": [
    "import os"
   ]
  },
  {
   "cell_type": "code",
   "execution_count": 2,
   "metadata": {},
   "outputs": [],
   "source": [
    "os.chdir('../')"
   ]
  },
  {
   "cell_type": "code",
   "execution_count": 3,
   "metadata": {},
   "outputs": [
    {
     "data": {
      "text/plain": [
       "'/home/utpal108/dev/Python/PW_Skills_Projects/waste-detection-using-yoloV5'"
      ]
     },
     "execution_count": 3,
     "metadata": {},
     "output_type": "execute_result"
    }
   ],
   "source": [
    "%pwd"
   ]
  },
  {
   "cell_type": "code",
   "execution_count": 4,
   "metadata": {},
   "outputs": [],
   "source": [
    "# Config Entity\n",
    "from dataclasses import dataclass\n",
    "from pathlib import Path\n",
    "\n",
    "@dataclass(frozen=True)\n",
    "class ModelTrainingConfig:\n",
    "    root_dir: Path\n",
    "    yolo_model_gitgub_url: str\n",
    "    num_classes: int\n",
    "    pretrained_model_name: str\n",
    "    image_size: int\n",
    "    batch_size: int\n",
    "    epochs: int\n",
    "    required_files: list\n",
    "    dataset_dir: Path"
   ]
  },
  {
   "cell_type": "code",
   "execution_count": 5,
   "metadata": {},
   "outputs": [],
   "source": [
    "from diabeticRetinopathy.constants import *\n",
    "from diabeticRetinopathy.utils import create_directories, read_yaml, save_yaml"
   ]
  },
  {
   "cell_type": "code",
   "execution_count": 6,
   "metadata": {},
   "outputs": [],
   "source": [
    "# Configuration Manager\n",
    "class ConfigurationManager:\n",
    "    def __init__(self, config_filepath = CONFIG_FILE_PATH, params_filepath = PARAMS_FILE_PATH):\n",
    "        self.config = read_yaml(config_filepath)\n",
    "        self.params = read_yaml(params_filepath)\n",
    "\n",
    "        create_directories([self.config.artifacts_root])\n",
    "\n",
    "    def get_model_training_config(self) -> ModelTrainingConfig:\n",
    "        create_directories([self.config.model_training.root_dir])\n",
    "        data_file_path = Path(self.config.data_ingestion.dataset_dir, 'data.yaml')\n",
    "        data_config = read_yaml(data_file_path)\n",
    "\n",
    "        model_training_config = ModelTrainingConfig(\n",
    "            root_dir = Path(self.config.model_training.root_dir),\n",
    "            yolo_model_gitgub_url = self.config.model_training.yolo_model_gitgub_url,\n",
    "            num_classes =  int(data_config.nc),\n",
    "            pretrained_model_name = self.params.PRETRAINED_MODEL_NAME,\n",
    "            image_size = self.params.IMAGE_SIZE,\n",
    "            batch_size = self.params.BATCH_SIZE,\n",
    "            epochs = self.params.EPOCHS,\n",
    "            required_files = self.params.REQUIRED_FILES,\n",
    "            dataset_dir = self.config.data_ingestion.dataset_dir\n",
    "        )\n",
    "\n",
    "        return  model_training_config\n"
   ]
  },
  {
   "cell_type": "code",
   "execution_count": 7,
   "metadata": {},
   "outputs": [],
   "source": [
    "import subprocess\n",
    "import shutil\n",
    "import yaml"
   ]
  },
  {
   "cell_type": "code",
   "execution_count": 8,
   "metadata": {},
   "outputs": [],
   "source": [
    "# Component\n",
    "class ModelTraining:\n",
    "    def __init__(self, config: ModelTrainingConfig):\n",
    "        self.config = config\n",
    "\n",
    "    def _get_yolo_model_from_gitgub(self):\n",
    "        self.repo_name = self.config.yolo_model_gitgub_url.split('/')[-1].split('.')[0]\n",
    "        if (not os.path.exists(self.repo_name)):\n",
    "            subprocess.call([\"git\", \"clone\", self.config.yolo_model_gitgub_url])\n",
    "            shutil.rmtree(os.path.join(self.repo_name,'.git'))\n",
    "\n",
    "    def _make_custom_model_config(self):\n",
    "        pretrained_model_path = Path(f'yolov5/models/{self.config.pretrained_model_name}.yaml')\n",
    "        \n",
    "        with open(pretrained_model_path) as f:\n",
    "            pretrained_model_config = yaml.safe_load(f)\n",
    "        \n",
    "        pretrained_model_config['nc'] = self.config.num_classes\n",
    "        custom_model_config_path = Path(f'yolov5/models/custom_{self.config.pretrained_model_name}.yaml')\n",
    "        \n",
    "        with open(custom_model_config_path, 'w') as f:\n",
    "                yaml.dump(pretrained_model_config, f)\n",
    "\n",
    "    def _train_model(self):\n",
    "        for require_file in self.config.required_files:\n",
    "            require_file_path = os.path.join(self.config.dataset_dir, require_file)\n",
    "            destination_file_path = os.path.join(self.repo_name, require_file)\n",
    "            if not os.path.exists(destination_file_path):\n",
    "                if os.path.isdir(require_file_path):\n",
    "                    shutil.copytree(require_file_path, destination_file_path)\n",
    "                else:\n",
    "                    shutil.copy(require_file_path, destination_file_path)\n",
    "                \n",
    "        os.system(f\"cd {self.repo_name}/ && python train.py --img {self.config.image_size} --batch {self.config.batch_size} --epochs {self.config.epochs} --data data.yaml --cfg models/custom_{self.config.pretrained_model_name}.yaml --weights '{self.config.pretrained_model_name}.pt' --name {self.config.pretrained_model_name}_results --cache\")\n",
    "        \n",
    "    def _model_training_post_processing(self):\n",
    "        os.system(f\"cp {self.repo_name}/runs/train/{self.config.pretrained_model_name}_results/weights/best.pt {self.config.root_dir}/\")\n",
    "        required_files = self.config.required_files\n",
    "        required_files.append('runs')\n",
    "\n",
    "        for require_file in required_files:\n",
    "            require_file_path = os.path.join(self.repo_name,require_file)\n",
    "            if os.path.exists(require_file_path):\n",
    "                if os.path.isdir(require_file_path):\n",
    "                    shutil.rmtree(require_file_path)\n",
    "                else:\n",
    "                    os.remove(require_file_path)\n",
    "        \n",
    "\n",
    "    def initiate_model_training(self):\n",
    "        try:\n",
    "            self._get_yolo_model_from_gitgub()\n",
    "            self._make_custom_model_config()\n",
    "            self._train_model()\n",
    "            self._model_training_post_processing()\n",
    "        except Exception as e:\n",
    "            raise e\n"
   ]
  },
  {
   "cell_type": "code",
   "execution_count": 9,
   "metadata": {},
   "outputs": [
    {
     "name": "stderr",
     "output_type": "stream",
     "text": [
      "2023-11-23 00:46:12,835 : wasteDetection.logger - INFO - YAML file: config/config.yaml loaded successfully\n",
      "2023-11-23 00:46:12,839 : wasteDetection.logger - INFO - YAML file: params.yaml loaded successfully\n",
      "2023-11-23 00:46:12,840 : wasteDetection.logger - INFO - created directory at: artifacts\n",
      "2023-11-23 00:46:12,841 : wasteDetection.logger - INFO - created directory at: artifacts/model_training\n",
      "2023-11-23 00:46:12,843 : wasteDetection.logger - INFO - YAML file: artifacts/data_ingestion/dataset/data.yaml loaded successfully\n",
      "Cloning into 'yolov5'...\n",
      "\u001b[34m\u001b[1mtrain: \u001b[0mweights=yolov5s.pt, cfg=models/custom_yolov5s.yaml, data=data.yaml, hyp=data/hyps/hyp.scratch-low.yaml, epochs=1, batch_size=16, imgsz=416, rect=False, resume=False, nosave=False, noval=False, noautoanchor=False, noplots=False, evolve=None, bucket=, cache=ram, image_weights=False, device=, multi_scale=False, single_cls=False, optimizer=SGD, sync_bn=False, workers=8, project=runs/train, name=yolov5s_results, exist_ok=False, quad=False, cos_lr=False, label_smoothing=0.0, patience=100, freeze=[0], save_period=-1, seed=0, local_rank=-1, entity=None, upload_dataset=False, bbox_interval=-1, artifact_alias=latest\n",
      "YOLOv5 🚀 2023-11-23 Python-3.10.12 torch-2.1.1+cu121 CPU\n",
      "\n",
      "\u001b[34m\u001b[1mhyperparameters: \u001b[0mlr0=0.01, lrf=0.01, momentum=0.937, weight_decay=0.0005, warmup_epochs=3.0, warmup_momentum=0.8, warmup_bias_lr=0.1, box=0.05, cls=0.5, cls_pw=1.0, obj=1.0, obj_pw=1.0, iou_t=0.2, anchor_t=4.0, fl_gamma=0.0, hsv_h=0.015, hsv_s=0.7, hsv_v=0.4, degrees=0.0, translate=0.1, scale=0.5, shear=0.0, perspective=0.0, flipud=0.0, fliplr=0.5, mosaic=1.0, mixup=0.0, copy_paste=0.0\n",
      "\u001b[34m\u001b[1mComet: \u001b[0mrun 'pip install comet_ml' to automatically track and visualize YOLOv5 🚀 runs in Comet\n",
      "\u001b[34m\u001b[1mTensorBoard: \u001b[0mStart with 'tensorboard --logdir runs/train', view at http://localhost:6006/\n"
     ]
    },
    {
     "name": "stdout",
     "output_type": "stream",
     "text": [
      "\u001b[34m\u001b[1mgithub: \u001b[0mskipping check (not a git repository), for updates see https://github.com/ultralytics/yolov5\n"
     ]
    },
    {
     "name": "stderr",
     "output_type": "stream",
     "text": [
      "Downloading https://github.com/ultralytics/yolov5/releases/download/v7.0/yolov5s.pt to yolov5s.pt...\n",
      "100%|██████████| 14.1M/14.1M [00:06<00:00, 2.16MB/s]\n",
      "\n",
      "\n",
      "                 from  n    params  module                                  arguments                     \n",
      "  0                -1  1      3520  models.common.Conv                      [3, 32, 6, 2, 2]              \n",
      "  1                -1  1     18560  models.common.Conv                      [32, 64, 3, 2]                \n",
      "  2                -1  1     18816  models.common.C3                        [64, 64, 1]                   \n",
      "  3                -1  1     73984  models.common.Conv                      [64, 128, 3, 2]               \n",
      "  4                -1  2    115712  models.common.C3                        [128, 128, 2]                 \n",
      "  5                -1  1    295424  models.common.Conv                      [128, 256, 3, 2]              \n",
      "  6                -1  3    625152  models.common.C3                        [256, 256, 3]                 \n",
      "  7                -1  1   1180672  models.common.Conv                      [256, 512, 3, 2]              \n",
      "  8                -1  1   1182720  models.common.C3                        [512, 512, 1]                 \n",
      "  9                -1  1    656896  models.common.SPPF                      [512, 512, 5]                 \n",
      " 10                -1  1    131584  models.common.Conv                      [512, 256, 1, 1]              \n",
      " 11                -1  1         0  torch.nn.modules.upsampling.Upsample    [None, 2, 'nearest']          \n",
      " 12           [-1, 6]  1         0  models.common.Concat                    [1]                           \n",
      " 13                -1  1    361984  models.common.C3                        [512, 256, 1, False]          \n",
      " 14                -1  1     33024  models.common.Conv                      [256, 128, 1, 1]              \n",
      " 15                -1  1         0  torch.nn.modules.upsampling.Upsample    [None, 2, 'nearest']          \n",
      " 16           [-1, 4]  1         0  models.common.Concat                    [1]                           \n",
      " 17                -1  1     90880  models.common.C3                        [256, 128, 1, False]          \n",
      " 18                -1  1    147712  models.common.Conv                      [128, 128, 3, 2]              \n",
      " 19          [-1, 14]  1         0  models.common.Concat                    [1]                           \n",
      " 20                -1  1    296448  models.common.C3                        [256, 256, 1, False]          \n",
      " 21                -1  1    590336  models.common.Conv                      [256, 256, 3, 2]              \n",
      " 22          [-1, 10]  1         0  models.common.Concat                    [1]                           \n",
      " 23                -1  1   1182720  models.common.C3                        [512, 512, 1, False]          \n",
      " 24      [17, 20, 23]  1     26970  models.yolo.Detect                      [5, [[10, 13, 16, 30, 33, 23], [30, 61, 62, 45, 59, 119], [116, 90, 156, 198, 373, 326]], [128, 256, 512]]\n",
      "custom_YOLOv5s summary: 214 layers, 7033114 parameters, 7033114 gradients, 16.0 GFLOPs\n",
      "\n",
      "Transferred 342/349 items from yolov5s.pt\n",
      "\u001b[34m\u001b[1moptimizer:\u001b[0m SGD(lr=0.01) with parameter groups 57 weight(decay=0.0), 60 weight(decay=0.0005), 60 bias\n",
      "\u001b[34m\u001b[1mtrain: \u001b[0mScanning /home/utpal108/dev/Python/PW_Skills_Projects/waste-detection-using-yoloV5/yolov5/train/labels... 3502 images, 27 backgrounds, 0 corrupt: 100%|██████████| 3502/3502 [00:00<00:00, 7146.89it/s]\n",
      "\u001b[34m\u001b[1mtrain: \u001b[0mNew cache created: /home/utpal108/dev/Python/PW_Skills_Projects/waste-detection-using-yoloV5/yolov5/train/labels.cache\n",
      "\u001b[34m\u001b[1mtrain: \u001b[0mCaching images (1.7GB ram): 100%|██████████| 3502/3502 [00:01<00:00, 2075.03it/s]\n",
      "\u001b[34m\u001b[1mval: \u001b[0mScanning /home/utpal108/dev/Python/PW_Skills_Projects/waste-detection-using-yoloV5/yolov5/valid/labels... 580 images, 0 backgrounds, 0 corrupt: 100%|██████████| 580/580 [00:00<00:00, 6193.23it/s]\n",
      "\u001b[34m\u001b[1mval: \u001b[0mNew cache created: /home/utpal108/dev/Python/PW_Skills_Projects/waste-detection-using-yoloV5/yolov5/valid/labels.cache\n",
      "\u001b[34m\u001b[1mval: \u001b[0mCaching images (0.3GB ram): 100%|██████████| 580/580 [00:00<00:00, 1797.08it/s]\n",
      "\n",
      "\u001b[34m\u001b[1mAutoAnchor: \u001b[0m3.69 anchors/target, 0.931 Best Possible Recall (BPR). Anchors are a poor fit to dataset ⚠️, attempting to improve...\n",
      "\u001b[34m\u001b[1mAutoAnchor: \u001b[0mWARNING ⚠️ Extremely small objects found: 758 of 10680 labels are <3 pixels in size\n",
      "\u001b[34m\u001b[1mAutoAnchor: \u001b[0mRunning kmeans for 9 anchors on 10674 points...\n",
      "\u001b[34m\u001b[1mAutoAnchor: \u001b[0mEvolving anchors with Genetic Algorithm: fitness = 0.6867: 100%|██████████| 1000/1000 [00:00<00:00, 1180.37it/s]\n",
      "\u001b[34m\u001b[1mAutoAnchor: \u001b[0mthr=0.25: 0.9964 best possible recall, 4.04 anchors past thr\n",
      "\u001b[34m\u001b[1mAutoAnchor: \u001b[0mn=9, img_size=416, metric_all=0.279/0.687-mean/best, past_thr=0.482-mean: 5,5, 10,10, 22,16, 23,35, 46,27, 45,56, 89,64, 130,129, 254,248\n",
      "\u001b[34m\u001b[1mAutoAnchor: \u001b[0mDone ✅ (optional: update model *.yaml to use these anchors in the future)\n",
      "Plotting labels to runs/train/yolov5s_results/labels.jpg... \n",
      "Image sizes 416 train, 416 val\n",
      "Using 8 dataloader workers\n",
      "Logging results to \u001b[1mruns/train/yolov5s_results\u001b[0m\n",
      "Starting training for 1 epochs...\n",
      "\n",
      "      Epoch    GPU_mem   box_loss   obj_loss   cls_loss  Instances       Size\n",
      "        0/0         0G     0.0994    0.02222    0.04374         68        416: 100%|██████████| 219/219 [15:12<00:00,  4.17s/it]\n",
      "                 Class     Images  Instances          P          R      mAP50   mAP50-95: 100%|██████████| 19/19 [01:03<00:00,  3.32s/it]\n",
      "                   all        580       1319      0.294      0.167     0.0887     0.0419\n",
      "\n",
      "1 epochs completed in 0.271 hours.\n",
      "Optimizer stripped from runs/train/yolov5s_results/weights/last.pt, 14.3MB\n",
      "Optimizer stripped from runs/train/yolov5s_results/weights/best.pt, 14.3MB\n",
      "\n",
      "Validating runs/train/yolov5s_results/weights/best.pt...\n",
      "Fusing layers... \n",
      "custom_YOLOv5s summary: 157 layers, 7023610 parameters, 0 gradients, 15.8 GFLOPs\n",
      "                 Class     Images  Instances          P          R      mAP50   mAP50-95:  37%|███▋      | 7/19 [02:00<07:01, 35.17s/it]Killed\n"
     ]
    }
   ],
   "source": [
    "# Pipeline\n",
    "try:\n",
    "    config = ConfigurationManager()\n",
    "    model_training_config = config.get_model_training_config()\n",
    "    model_training = ModelTraining(config=model_training_config)\n",
    "    model_training.initiate_model_training()\n",
    "\n",
    "except Exception as e:\n",
    "    raise(e)"
   ]
  }
 ],
 "metadata": {
  "kernelspec": {
   "display_name": "venv",
   "language": "python",
   "name": "python3"
  },
  "language_info": {
   "codemirror_mode": {
    "name": "ipython",
    "version": 3
   },
   "file_extension": ".py",
   "mimetype": "text/x-python",
   "name": "python",
   "nbconvert_exporter": "python",
   "pygments_lexer": "ipython3",
   "version": "3.10.12"
  }
 },
 "nbformat": 4,
 "nbformat_minor": 2
}
