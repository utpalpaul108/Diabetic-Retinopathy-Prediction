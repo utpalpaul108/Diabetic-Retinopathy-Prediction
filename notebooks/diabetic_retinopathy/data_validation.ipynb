{
 "cells": [
  {
   "cell_type": "markdown",
   "metadata": {},
   "source": [
    "## Data Validation"
   ]
  },
  {
   "cell_type": "code",
   "execution_count": 1,
   "metadata": {},
   "outputs": [],
   "source": [
    "import os"
   ]
  },
  {
   "cell_type": "code",
   "execution_count": 2,
   "metadata": {},
   "outputs": [],
   "source": [
    "os.chdir('../')"
   ]
  },
  {
   "cell_type": "code",
   "execution_count": 3,
   "metadata": {},
   "outputs": [
    {
     "data": {
      "text/plain": [
       "'/home/utpal108/dev/Python/PW_Skills_Projects/waste-detection-using-yoloV5'"
      ]
     },
     "execution_count": 3,
     "metadata": {},
     "output_type": "execute_result"
    }
   ],
   "source": [
    "%pwd"
   ]
  },
  {
   "cell_type": "code",
   "execution_count": 4,
   "metadata": {},
   "outputs": [],
   "source": [
    "# Config Entity\n",
    "from dataclasses import dataclass\n",
    "from pathlib import Path\n",
    "\n",
    "@dataclass(frozen=True)\n",
    "class DataValidationConfig:\n",
    "    dataset_dir: Path\n",
    "    required_file_list: list\n",
    "    root_dir: Path\n",
    "    validation_status_file_path: Path"
   ]
  },
  {
   "cell_type": "code",
   "execution_count": 5,
   "metadata": {},
   "outputs": [],
   "source": [
    "from diabeticRetinopathy.constants import *\n",
    "from diabeticRetinopathy.utils import create_directories, read_yaml"
   ]
  },
  {
   "cell_type": "code",
   "execution_count": 9,
   "metadata": {},
   "outputs": [],
   "source": [
    "# Configuration Manager\n",
    "class ConfigurationManager:\n",
    "    def __init__(self, config_filepath = CONFIG_FILE_PATH, params_filepath = PARAMS_FILE_PATH):\n",
    "\n",
    "        self.config = read_yaml(config_filepath)\n",
    "        self.params = read_yaml(params_filepath)\n",
    "\n",
    "        create_directories([self.config.artifacts_root])\n",
    "\n",
    "    def get_data_validation_config(self) -> DataValidationConfig:\n",
    "        \n",
    "        create_directories([self.config.data_validation.root_dir])\n",
    "\n",
    "        data_validation_config = DataValidationConfig(\n",
    "            dataset_dir = Path(self.config.data_ingestion.dataset_dir),\n",
    "            required_file_list = self.params.REQUIRED_FILES,\n",
    "            root_dir = Path(self.config.data_validation.root_dir),\n",
    "            validation_status_file_path = Path(self.config.data_validation.validation_status_file_path)\n",
    "\n",
    "        )\n",
    "\n",
    "        return data_validation_config"
   ]
  },
  {
   "cell_type": "code",
   "execution_count": 12,
   "metadata": {},
   "outputs": [],
   "source": [
    "# Components\n",
    "class DataValidation:\n",
    "    def __init__(self, config: DataValidationConfig):\n",
    "        self.config = config\n",
    "        self.required_file_list = config.required_file_list\n",
    "\n",
    "    def initiate_data_validation(self) -> bool:\n",
    "        try:\n",
    "            validation_status = True\n",
    "            all_files_dir = os.listdir(self.config.dataset_dir)\n",
    "\n",
    "            for required_file in self.required_file_list:\n",
    "                if required_file not in all_files_dir:\n",
    "                    validation_status = False\n",
    "                    break\n",
    "            \n",
    "            with open(self.config.validation_status_file_path, 'w') as f:\n",
    "                f.write(f'Validation status: {validation_status}')\n",
    "\n",
    "            return validation_status\n",
    "                \n",
    "\n",
    "        except Exception as e:\n",
    "            raise e"
   ]
  },
  {
   "cell_type": "code",
   "execution_count": 14,
   "metadata": {},
   "outputs": [
    {
     "name": "stderr",
     "output_type": "stream",
     "text": [
      "2023-11-22 14:01:54,871 : wasteDetection.logger - INFO - YAML file: config/config.yaml loaded successfully\n",
      "2023-11-22 14:01:54,875 : wasteDetection.logger - INFO - YAML file: params.yaml loaded successfully\n",
      "2023-11-22 14:01:54,877 : wasteDetection.logger - INFO - created directory at: artifacts\n",
      "2023-11-22 14:01:54,878 : wasteDetection.logger - INFO - created directory at: artifacts/data_validation\n"
     ]
    },
    {
     "name": "stdout",
     "output_type": "stream",
     "text": [
      "True\n"
     ]
    }
   ],
   "source": [
    "# Pipeline\n",
    "try:\n",
    "    config = ConfigurationManager()\n",
    "    data_validation_config = config.get_data_validation_config()\n",
    "    data_validation = DataValidation(config=data_validation_config)\n",
    "    status = data_validation.initiate_data_validation()\n",
    "    print(status)\n",
    "\n",
    "except Exception as e:\n",
    "    raise(e)"
   ]
  },
  {
   "cell_type": "code",
   "execution_count": null,
   "metadata": {},
   "outputs": [],
   "source": []
  }
 ],
 "metadata": {
  "kernelspec": {
   "display_name": "venv",
   "language": "python",
   "name": "python3"
  },
  "language_info": {
   "codemirror_mode": {
    "name": "ipython",
    "version": 3
   },
   "file_extension": ".py",
   "mimetype": "text/x-python",
   "name": "python",
   "nbconvert_exporter": "python",
   "pygments_lexer": "ipython3",
   "version": "3.10.12"
  }
 },
 "nbformat": 4,
 "nbformat_minor": 2
}
