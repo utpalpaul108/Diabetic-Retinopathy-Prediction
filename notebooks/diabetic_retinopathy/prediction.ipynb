{
 "cells": [
  {
   "cell_type": "markdown",
   "metadata": {},
   "source": [
    "## Prediction"
   ]
  },
  {
   "cell_type": "code",
   "execution_count": 2,
   "metadata": {},
   "outputs": [],
   "source": [
    "import os"
   ]
  },
  {
   "cell_type": "code",
   "execution_count": 3,
   "metadata": {},
   "outputs": [
    {
     "data": {
      "text/plain": [
       "'/home/utpal108/dev/Upwork/Projects/Diabetic-Retinopathy-Prediction/notebooks/diabetic_retinopathy'"
      ]
     },
     "execution_count": 3,
     "metadata": {},
     "output_type": "execute_result"
    }
   ],
   "source": [
    "%pwd"
   ]
  },
  {
   "cell_type": "code",
   "execution_count": 4,
   "metadata": {},
   "outputs": [],
   "source": [
    "os.chdir('../../')"
   ]
  },
  {
   "cell_type": "code",
   "execution_count": 5,
   "metadata": {},
   "outputs": [
    {
     "data": {
      "text/plain": [
       "'/home/utpal108/dev/Upwork/Projects/Diabetic-Retinopathy-Prediction'"
      ]
     },
     "execution_count": 5,
     "metadata": {},
     "output_type": "execute_result"
    }
   ],
   "source": [
    "%pwd"
   ]
  },
  {
   "cell_type": "code",
   "execution_count": 9,
   "metadata": {},
   "outputs": [],
   "source": [
    "import tensorflow as tf\n",
    "from tensorflow import keras\n",
    "from diabeticRetinopathy.config import ConfigurationManager\n",
    "from diabeticRetinopathy.constants import *\n",
    "from diabeticRetinopathy.utils import read_yaml\n",
    "from keras.models import load_model\n",
    "from keras.preprocessing.image import load_img, img_to_array\n",
    "import numpy as np"
   ]
  },
  {
   "cell_type": "code",
   "execution_count": 10,
   "metadata": {},
   "outputs": [],
   "source": [
    "class PredictionPipeline:\n",
    "\n",
    "    def __init__(self, filename):\n",
    "        self.filename = filename\n",
    "        self.config = ConfigurationManager()\n",
    "        self.params = read_yaml(PARAMS_FILE_PATH)\n",
    "        self.training_config = self.config.get_training_config()\n",
    "        self.data_ingestion_config = self.config.get_data_ingestion_config()\n",
    "\n",
    "    def _get_prediction_classes(self):\n",
    "        classes = self.params.CLASSES\n",
    "        class_id_to_label = {i: class_name for i, class_name in enumerate(classes)}\n",
    "        return class_id_to_label\n",
    "    \n",
    "    def predict(self):\n",
    "        \n",
    "        # Load Model\n",
    "        model = load_model(self.training_config.trained_model_path)\n",
    "\n",
    "        img_name = self.filename\n",
    "        target_img_size = tuple(self.params.IMAGE_SIZE[:2])\n",
    "        test_image = load_img(img_name, target_size = target_img_size)\n",
    "        \n",
    "        test_image = img_to_array(test_image)\n",
    "        test_image = np.expand_dims(test_image, axis = 0)\n",
    "        predictions = model.predict(test_image)\n",
    "        result = np.argmax(predictions)\n",
    "\n",
    "        prediction_classes = self._get_prediction_classes()\n",
    "        predicted_class_label = prediction_classes[result]\n",
    "        \n",
    "        return [{'image': predicted_class_label}]"
   ]
  },
  {
   "cell_type": "code",
   "execution_count": null,
   "metadata": {},
   "outputs": [],
   "source": []
  }
 ],
 "metadata": {
  "kernelspec": {
   "display_name": "venv",
   "language": "python",
   "name": "python3"
  },
  "language_info": {
   "codemirror_mode": {
    "name": "ipython",
    "version": 3
   },
   "file_extension": ".py",
   "mimetype": "text/x-python",
   "name": "python",
   "nbconvert_exporter": "python",
   "pygments_lexer": "ipython3",
   "version": "3.10.12"
  }
 },
 "nbformat": 4,
 "nbformat_minor": 2
}
