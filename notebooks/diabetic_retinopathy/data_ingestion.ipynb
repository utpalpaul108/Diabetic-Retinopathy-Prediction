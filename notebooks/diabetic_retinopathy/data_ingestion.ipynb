{
 "cells": [
  {
   "cell_type": "markdown",
   "metadata": {},
   "source": [
    "## Data Ingestion"
   ]
  },
  {
   "cell_type": "code",
   "execution_count": 1,
   "metadata": {},
   "outputs": [],
   "source": [
    "import os"
   ]
  },
  {
   "cell_type": "code",
   "execution_count": 2,
   "metadata": {},
   "outputs": [],
   "source": [
    "os.chdir('../../')"
   ]
  },
  {
   "cell_type": "code",
   "execution_count": 3,
   "metadata": {},
   "outputs": [
    {
     "data": {
      "text/plain": [
       "'/home/utpal108/dev/Upwork/Projects/Diabetic-Retinopathy-Prediction'"
      ]
     },
     "execution_count": 3,
     "metadata": {},
     "output_type": "execute_result"
    }
   ],
   "source": [
    "%pwd"
   ]
  },
  {
   "cell_type": "code",
   "execution_count": 4,
   "metadata": {},
   "outputs": [],
   "source": [
    "# Config Entity\n",
    "from dataclasses import dataclass\n",
    "from pathlib import Path\n",
    "\n",
    "@dataclass(frozen=True)\n",
    "class DataIngestionConfig:\n",
    "    root_dir: Path\n",
    "    source_url: str\n",
    "    raw_dataset_dir: Path\n",
    "    dataset_dir: Path"
   ]
  },
  {
   "cell_type": "code",
   "execution_count": 5,
   "metadata": {},
   "outputs": [],
   "source": [
    "from diabeticRetinopathy.constants import *\n",
    "from diabeticRetinopathy.utils import read_yaml, create_directories"
   ]
  },
  {
   "cell_type": "code",
   "execution_count": 6,
   "metadata": {},
   "outputs": [],
   "source": [
    "# Configuration Manager\n",
    "class ConfigurationManager:\n",
    "    def __init__(self, config_filepath = CONFIG_FILE_PATH, params_filepath = PARAMS_FILE_PATH):\n",
    "        \n",
    "        self.config = read_yaml(config_filepath)\n",
    "        self.params = read_yaml(params_filepath)\n",
    "\n",
    "        create_directories([self.config.artifacts_root])\n",
    "\n",
    "    def get_data_ingestion_config(self) -> DataIngestionConfig: \n",
    "        config = self.config.data_ingestion\n",
    "        create_directories([config.root_dir])\n",
    "\n",
    "        data_ingestion_config = DataIngestionConfig(\n",
    "            root_dir = Path(config.root_dir),\n",
    "            source_url = config.source_URL,\n",
    "            raw_dataset_dir = Path(config.raw_dataset_dir),\n",
    "            dataset_dir = Path(config.dataset_dir)\n",
    "        )\n",
    "\n",
    "        return data_ingestion_config"
   ]
  },
  {
   "cell_type": "code",
   "execution_count": 7,
   "metadata": {},
   "outputs": [],
   "source": [
    "import opendatasets as od\n",
    "import shutil\n",
    "from PIL import Image"
   ]
  },
  {
   "cell_type": "code",
   "execution_count": 8,
   "metadata": {},
   "outputs": [],
   "source": [
    "# Components\n",
    "class DataIngestion:\n",
    "    def __init__(self, config: DataIngestionConfig):\n",
    "        self.config = config\n",
    "\n",
    "    def download_dataset(self):\n",
    "        if not os.path.exists(self.config.dataset_dir) or (not os.listdir(self.config.dataset_dir)):\n",
    "            create_directories([self.config.raw_dataset_dir])\n",
    "            # Download the dataset\n",
    "            od.download(self.config.source_url,data_dir=self.config.raw_dataset_dir)\n",
    "\n",
    "\n",
    "    # def _is_valid_image(self, image_path):\n",
    "    #     try:\n",
    "    #         with Image.open(image_path) as img:\n",
    "    #             return img.size[0] > 0 and img.size[1] > 0\n",
    "    #     except (OSError, IOError):\n",
    "    #         return False\n",
    "        \n",
    "\n",
    "    def preprocess_dataset(self):\n",
    "        if os.path.exists(self.config.raw_dataset_dir):\n",
    "            try:\n",
    "                create_directories([self.config.dataset_dir])\n",
    "                for root, dirs, files in os.walk(self.config.raw_dataset_dir):\n",
    "                    for file in files:\n",
    "                        file_path = os.path.join(root, file)\n",
    "                        \n",
    "                        # Check if the file is an image and valid\n",
    "                        # if file.lower().endswith(('.jpg', '.jpeg', '.png', '.csv')) and self._is_valid_image(file_path):\n",
    "                        if file.lower().endswith(('.jpg', '.jpeg', '.png', '.csv')):\n",
    "                            # Extract the folder name\n",
    "                            folder_name = os.path.basename(root)\n",
    "                            \n",
    "                            # Create the destination folder if it doesn't exist\n",
    "                            destination_folder = os.path.join(self.config.dataset_dir, folder_name)\n",
    "                            create_directories([destination_folder])\n",
    "                            \n",
    "                            # Copy the valid image to the destination folder\n",
    "                            shutil.copy(file_path, os.path.join(destination_folder, file))\n",
    "\n",
    "                shutil.rmtree(self.config.raw_dataset_dir)\n",
    "            \n",
    "            except Exception as e:\n",
    "                raise e"
   ]
  },
  {
   "cell_type": "code",
   "execution_count": 9,
   "metadata": {},
   "outputs": [
    {
     "name": "stderr",
     "output_type": "stream",
     "text": [
      "2024-04-16 13:59:05,299 : diabeticRetinopathy.logger - INFO - YAML file: config/config.yaml loaded successfully\n",
      "2024-04-16 13:59:05,301 : diabeticRetinopathy.logger - INFO - YAML file: params.yaml loaded successfully\n",
      "2024-04-16 13:59:05,302 : diabeticRetinopathy.logger - INFO - created directory at: artifacts\n",
      "2024-04-16 13:59:05,302 : diabeticRetinopathy.logger - INFO - created directory at: artifacts/data_ingestion\n",
      "2024-04-16 13:59:05,303 : diabeticRetinopathy.logger - INFO - created directory at: artifacts/data_ingestion/raw_dataset\n"
     ]
    },
    {
     "name": "stdout",
     "output_type": "stream",
     "text": [
      "Please provide your Kaggle credentials to download this dataset. Learn more: http://bit.ly/kaggle-creds\n",
      "Your Kaggle username:Your Kaggle Key:Downloading aptos2019-blindness-detection.zip to artifacts/data_ingestion/raw_dataset/aptos2019-blindness-detection\n"
     ]
    },
    {
     "name": "stderr",
     "output_type": "stream",
     "text": [
      "  0%|          | 40.0M/9.51G [00:30<2:03:39, 1.37MB/s]"
     ]
    }
   ],
   "source": [
    "# Pipeline\n",
    "try:\n",
    "    config = ConfigurationManager()\n",
    "    data_ingestion_config = config.get_data_ingestion_config()\n",
    "    data_ingestion = DataIngestion(config=data_ingestion_config)\n",
    "    data_ingestion.download_dataset()\n",
    "    data_ingestion.preprocess_dataset()\n",
    "    \n",
    "except Exception as e:\n",
    "    raise e"
   ]
  },
  {
   "cell_type": "code",
   "execution_count": null,
   "metadata": {},
   "outputs": [],
   "source": []
  }
 ],
 "metadata": {
  "kernelspec": {
   "display_name": "venv",
   "language": "python",
   "name": "python3"
  },
  "language_info": {
   "codemirror_mode": {
    "name": "ipython",
    "version": 3
   },
   "file_extension": ".py",
   "mimetype": "text/x-python",
   "name": "python",
   "nbconvert_exporter": "python",
   "pygments_lexer": "ipython3",
   "version": "3.10.12"
  }
 },
 "nbformat": 4,
 "nbformat_minor": 2
}
